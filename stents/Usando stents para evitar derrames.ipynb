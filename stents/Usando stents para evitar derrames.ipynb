{
 "cells": [
  {
   "cell_type": "code",
   "execution_count": 1,
   "id": "ccd5e91c",
   "metadata": {},
   "outputs": [],
   "source": [
    "import pandas as pd"
   ]
  },
  {
   "cell_type": "markdown",
   "id": "0dd1876e",
   "metadata": {},
   "source": [
    "## Esse notebook tem como objetivo observar a utilização da estatística para validar a eficácia da utilização de \"stents\" para evitar derrames;"
   ]
  },
  {
   "cell_type": "markdown",
   "id": "427c7398",
   "metadata": {},
   "source": [
    "## *O nosso processo geral de investigação está definido em 4 etapas:*\n",
    "* #### Definir com clareza o problema que queremos solucionar/pergunta que queremos responder;\n",
    "* #### Coletar os dados relevantes para respondermos nossa pergunta central da investigação;\n",
    "* #### Analisar os dados;\n",
    "* #### Fazer nossa conclusão;"
   ]
  },
  {
   "cell_type": "markdown",
   "id": "f9cd2552",
   "metadata": {},
   "source": [
    "## Para o nosso estudo, a pergunta principal que gostaríamos de responder é a seguinte:\n",
    "* ### O uso de \"stents\" reduz o risco de acidente vascular cerebral? "
   ]
  },
  {
   "cell_type": "markdown",
   "id": "c97d9634",
   "metadata": {},
   "source": [
    "### Após termos definido a nossa pergunta central, vamos utilizar uma fonte de dados adequada e que contenha dados contextualizados com a nossa pergunta central;"
   ]
  },
  {
   "cell_type": "code",
   "execution_count": 6,
   "id": "38fa63e6",
   "metadata": {},
   "outputs": [],
   "source": [
    "stent30 = pd.read_csv(\"datasets/stent30.csv\")\n",
    "stent365 = pd.read_csv(\"datasets/stent365.csv\")"
   ]
  },
  {
   "cell_type": "code",
   "execution_count": 5,
   "id": "d5346cb5",
   "metadata": {},
   "outputs": [
    {
     "data": {
      "text/html": [
       "<div>\n",
       "<style scoped>\n",
       "    .dataframe tbody tr th:only-of-type {\n",
       "        vertical-align: middle;\n",
       "    }\n",
       "\n",
       "    .dataframe tbody tr th {\n",
       "        vertical-align: top;\n",
       "    }\n",
       "\n",
       "    .dataframe thead th {\n",
       "        text-align: right;\n",
       "    }\n",
       "</style>\n",
       "<table border=\"1\" class=\"dataframe\">\n",
       "  <thead>\n",
       "    <tr style=\"text-align: right;\">\n",
       "      <th></th>\n",
       "      <th>group</th>\n",
       "      <th>outcome</th>\n",
       "    </tr>\n",
       "  </thead>\n",
       "  <tbody>\n",
       "    <tr>\n",
       "      <th>0</th>\n",
       "      <td>treatment</td>\n",
       "      <td>stroke</td>\n",
       "    </tr>\n",
       "    <tr>\n",
       "      <th>1</th>\n",
       "      <td>treatment</td>\n",
       "      <td>stroke</td>\n",
       "    </tr>\n",
       "    <tr>\n",
       "      <th>2</th>\n",
       "      <td>treatment</td>\n",
       "      <td>stroke</td>\n",
       "    </tr>\n",
       "    <tr>\n",
       "      <th>3</th>\n",
       "      <td>treatment</td>\n",
       "      <td>stroke</td>\n",
       "    </tr>\n",
       "    <tr>\n",
       "      <th>4</th>\n",
       "      <td>treatment</td>\n",
       "      <td>stroke</td>\n",
       "    </tr>\n",
       "  </tbody>\n",
       "</table>\n",
       "</div>"
      ],
      "text/plain": [
       "       group outcome\n",
       "0  treatment  stroke\n",
       "1  treatment  stroke\n",
       "2  treatment  stroke\n",
       "3  treatment  stroke\n",
       "4  treatment  stroke"
      ]
     },
     "execution_count": 5,
     "metadata": {},
     "output_type": "execute_result"
    }
   ],
   "source": [
    "stent30.head()"
   ]
  },
  {
   "cell_type": "code",
   "execution_count": 8,
   "id": "09906f11",
   "metadata": {},
   "outputs": [
    {
     "data": {
      "text/html": [
       "<div>\n",
       "<style scoped>\n",
       "    .dataframe tbody tr th:only-of-type {\n",
       "        vertical-align: middle;\n",
       "    }\n",
       "\n",
       "    .dataframe tbody tr th {\n",
       "        vertical-align: top;\n",
       "    }\n",
       "\n",
       "    .dataframe thead th {\n",
       "        text-align: right;\n",
       "    }\n",
       "</style>\n",
       "<table border=\"1\" class=\"dataframe\">\n",
       "  <thead>\n",
       "    <tr style=\"text-align: right;\">\n",
       "      <th></th>\n",
       "      <th>group</th>\n",
       "      <th>outcome</th>\n",
       "    </tr>\n",
       "  </thead>\n",
       "  <tbody>\n",
       "    <tr>\n",
       "      <th>0</th>\n",
       "      <td>treatment</td>\n",
       "      <td>stroke</td>\n",
       "    </tr>\n",
       "    <tr>\n",
       "      <th>1</th>\n",
       "      <td>treatment</td>\n",
       "      <td>stroke</td>\n",
       "    </tr>\n",
       "    <tr>\n",
       "      <th>2</th>\n",
       "      <td>treatment</td>\n",
       "      <td>stroke</td>\n",
       "    </tr>\n",
       "    <tr>\n",
       "      <th>3</th>\n",
       "      <td>treatment</td>\n",
       "      <td>stroke</td>\n",
       "    </tr>\n",
       "    <tr>\n",
       "      <th>4</th>\n",
       "      <td>treatment</td>\n",
       "      <td>stroke</td>\n",
       "    </tr>\n",
       "  </tbody>\n",
       "</table>\n",
       "</div>"
      ],
      "text/plain": [
       "       group outcome\n",
       "0  treatment  stroke\n",
       "1  treatment  stroke\n",
       "2  treatment  stroke\n",
       "3  treatment  stroke\n",
       "4  treatment  stroke"
      ]
     },
     "execution_count": 8,
     "metadata": {},
     "output_type": "execute_result"
    }
   ],
   "source": [
    "stent365.head()"
   ]
  },
  {
   "cell_type": "markdown",
   "id": "4698b0a4",
   "metadata": {},
   "source": [
    "### Estamos utilizando como fontes de dados um experimento que estuda a eficácia de stents no tratamento de pacientes com risco de AVC.\n",
    "* ### stent30 representa os resultados de 30 dias após o AVC;\n",
    "* ### stent365 representa os resultados de 365 dias após o AVC;"
   ]
  },
  {
   "cell_type": "code",
   "execution_count": 97,
   "id": "786de414",
   "metadata": {},
   "outputs": [
    {
     "data": {
      "text/html": [
       "<div>\n",
       "<style scoped>\n",
       "    .dataframe tbody tr th:only-of-type {\n",
       "        vertical-align: middle;\n",
       "    }\n",
       "\n",
       "    .dataframe tbody tr th {\n",
       "        vertical-align: top;\n",
       "    }\n",
       "\n",
       "    .dataframe thead th {\n",
       "        text-align: right;\n",
       "    }\n",
       "</style>\n",
       "<table border=\"1\" class=\"dataframe\">\n",
       "  <thead>\n",
       "    <tr style=\"text-align: right;\">\n",
       "      <th>outcome</th>\n",
       "      <th>no event</th>\n",
       "      <th>stroke</th>\n",
       "    </tr>\n",
       "    <tr>\n",
       "      <th>group</th>\n",
       "      <th></th>\n",
       "      <th></th>\n",
       "    </tr>\n",
       "  </thead>\n",
       "  <tbody>\n",
       "    <tr>\n",
       "      <th>control</th>\n",
       "      <td>214</td>\n",
       "      <td>13</td>\n",
       "    </tr>\n",
       "    <tr>\n",
       "      <th>treatment</th>\n",
       "      <td>191</td>\n",
       "      <td>33</td>\n",
       "    </tr>\n",
       "  </tbody>\n",
       "</table>\n",
       "</div>"
      ],
      "text/plain": [
       "outcome    no event  stroke\n",
       "group                      \n",
       "control         214      13\n",
       "treatment       191      33"
      ]
     },
     "execution_count": 97,
     "metadata": {},
     "output_type": "execute_result"
    }
   ],
   "source": [
    "stent30_statistic_resume = stent30.value_counts().unstack()\n",
    "stent30_statistic_resume"
   ]
  },
  {
   "cell_type": "code",
   "execution_count": 98,
   "id": "046a606a",
   "metadata": {},
   "outputs": [
    {
     "data": {
      "text/html": [
       "<div>\n",
       "<style scoped>\n",
       "    .dataframe tbody tr th:only-of-type {\n",
       "        vertical-align: middle;\n",
       "    }\n",
       "\n",
       "    .dataframe tbody tr th {\n",
       "        vertical-align: top;\n",
       "    }\n",
       "\n",
       "    .dataframe thead th {\n",
       "        text-align: right;\n",
       "    }\n",
       "</style>\n",
       "<table border=\"1\" class=\"dataframe\">\n",
       "  <thead>\n",
       "    <tr style=\"text-align: right;\">\n",
       "      <th>outcome</th>\n",
       "      <th>no event</th>\n",
       "      <th>stroke</th>\n",
       "    </tr>\n",
       "    <tr>\n",
       "      <th>group</th>\n",
       "      <th></th>\n",
       "      <th></th>\n",
       "    </tr>\n",
       "  </thead>\n",
       "  <tbody>\n",
       "    <tr>\n",
       "      <th>control</th>\n",
       "      <td>199</td>\n",
       "      <td>28</td>\n",
       "    </tr>\n",
       "    <tr>\n",
       "      <th>treatment</th>\n",
       "      <td>179</td>\n",
       "      <td>45</td>\n",
       "    </tr>\n",
       "  </tbody>\n",
       "</table>\n",
       "</div>"
      ],
      "text/plain": [
       "outcome    no event  stroke\n",
       "group                      \n",
       "control         199      28\n",
       "treatment       179      45"
      ]
     },
     "execution_count": 98,
     "metadata": {},
     "output_type": "execute_result"
    }
   ],
   "source": [
    "stent365_statistic_resume = stent365.value_counts().unstack()\n",
    "stent365_statistic_resume"
   ]
  },
  {
   "cell_type": "code",
   "execution_count": 100,
   "id": "8c539d9b",
   "metadata": {},
   "outputs": [
    {
     "data": {
      "text/html": [
       "<div>\n",
       "<style scoped>\n",
       "    .dataframe tbody tr th:only-of-type {\n",
       "        vertical-align: middle;\n",
       "    }\n",
       "\n",
       "    .dataframe tbody tr th {\n",
       "        vertical-align: top;\n",
       "    }\n",
       "\n",
       "    .dataframe thead th {\n",
       "        text-align: right;\n",
       "    }\n",
       "</style>\n",
       "<table border=\"1\" class=\"dataframe\">\n",
       "  <thead>\n",
       "    <tr style=\"text-align: right;\">\n",
       "      <th>outcome</th>\n",
       "      <th>no event_30_days</th>\n",
       "      <th>stroke_30_days</th>\n",
       "      <th>no event_365_days</th>\n",
       "      <th>stroke_365_days</th>\n",
       "    </tr>\n",
       "    <tr>\n",
       "      <th>group</th>\n",
       "      <th></th>\n",
       "      <th></th>\n",
       "      <th></th>\n",
       "      <th></th>\n",
       "    </tr>\n",
       "  </thead>\n",
       "  <tbody>\n",
       "    <tr>\n",
       "      <th>control</th>\n",
       "      <td>214</td>\n",
       "      <td>13</td>\n",
       "      <td>199</td>\n",
       "      <td>28</td>\n",
       "    </tr>\n",
       "    <tr>\n",
       "      <th>treatment</th>\n",
       "      <td>191</td>\n",
       "      <td>33</td>\n",
       "      <td>179</td>\n",
       "      <td>45</td>\n",
       "    </tr>\n",
       "  </tbody>\n",
       "</table>\n",
       "</div>"
      ],
      "text/plain": [
       "outcome    no event_30_days  stroke_30_days  no event_365_days  \\\n",
       "group                                                            \n",
       "control                 214              13                199   \n",
       "treatment               191              33                179   \n",
       "\n",
       "outcome    stroke_365_days  \n",
       "group                       \n",
       "control                 28  \n",
       "treatment               45  "
      ]
     },
     "execution_count": 100,
     "metadata": {},
     "output_type": "execute_result"
    }
   ],
   "source": [
    "df_statistic_resume = stent30_statistic_resume.join(\n",
    "    stent365_statistic_resume, \n",
    "    lsuffix = \"_30_days\", \n",
    "    rsuffix = \"_365_days\"\n",
    ")\n",
    "\n",
    "df_statistic_resume"
   ]
  },
  {
   "cell_type": "code",
   "execution_count": 126,
   "id": "b246b72d",
   "metadata": {},
   "outputs": [
    {
     "name": "stdout",
     "output_type": "stream",
     "text": [
      "<class 'pandas.core.frame.DataFrame'>\n",
      "Index: 2 entries, control to treatment\n",
      "Data columns (total 4 columns):\n",
      " #   Column             Non-Null Count  Dtype\n",
      "---  ------             --------------  -----\n",
      " 0   no event_30_days   2 non-null      int64\n",
      " 1   stroke_30_days     2 non-null      int64\n",
      " 2   no event_365_days  2 non-null      int64\n",
      " 3   stroke_365_days    2 non-null      int64\n",
      "dtypes: int64(4)\n",
      "memory usage: 188.0+ bytes\n"
     ]
    }
   ],
   "source": [
    "df_statistic_resume.info()"
   ]
  },
  {
   "cell_type": "markdown",
   "id": "824e4e26",
   "metadata": {},
   "source": [
    "### Com os blocos de código acima, fomos capazes de resumir os dados referentes aos resultados do experimento para tornar nossa capacidade analítica mais eficiente, e resumimos os dados verificando o total de cada evento ocorrido para cada grupo amostral;"
   ]
  },
  {
   "cell_type": "markdown",
   "id": "cc29a31b",
   "metadata": {},
   "source": [
    "### Agora, devemos ser capazes de fazermos as perguntas corretas para nossos dados afim de ficarmos mais perto de resolvermos nosso problema central;"
   ]
  },
  {
   "cell_type": "markdown",
   "id": "06521a11",
   "metadata": {},
   "source": [
    "## Dito isso, vamos analisar a proporção de pacientes que tiveram AVC no primeiro ano"
   ]
  },
  {
   "cell_type": "markdown",
   "id": "16c41966",
   "metadata": {},
   "source": [
    "### Qual a proporção de pacientes do grupo de tratamento que teve derrame no primeiro ano?"
   ]
  },
  {
   "cell_type": "code",
   "execution_count": 113,
   "id": "d4969199",
   "metadata": {},
   "outputs": [
    {
     "name": "stdout",
     "output_type": "stream",
     "text": [
      "A proporção de pacientes com AVC no primeiro ano do grupo de tratamento é de: 0.2\n"
     ]
    }
   ],
   "source": [
    "total_pacientes_grupo_tratamento_365 = df_statistic_resume.loc[\"treatment\"].iloc[2:].sum()\n",
    "avc_grupo_tratamento_365 = df_statistic_resume.loc[\"treatment\"].iloc[2:].loc[\"stroke_365_days\"]\n",
    "result_avc_tratamento_365 = round(avc_grupo_tratamento_365 / total_pacientes_grupo_tratamento_365, 2)\n",
    "\n",
    "print(f\"A proporção de pacientes com AVC no primeiro ano do grupo de tratamento é de: {result_avc_tratamento_365}\")"
   ]
  },
  {
   "cell_type": "markdown",
   "id": "31b3188a",
   "metadata": {},
   "source": [
    "### Qual a proporção de pacientes do grupo de controle que teve derrame no primeiro ano?"
   ]
  },
  {
   "cell_type": "code",
   "execution_count": 115,
   "id": "24441f0d",
   "metadata": {},
   "outputs": [
    {
     "name": "stdout",
     "output_type": "stream",
     "text": [
      "A proporção de pacientes com AVC no primeiro ano do grupo de controle é de: 0.12\n"
     ]
    }
   ],
   "source": [
    "total_pacientes_grupo_controle_365 = df_statistic_resume.loc[\"control\"].iloc[2:].sum()\n",
    "avc_grupo_controle_365 = df_statistic_resume.loc[\"control\"].iloc[2:].loc[\"stroke_365_days\"]\n",
    "result_avc_controle_365 = round(avc_grupo_controle_365 / total_pacientes_grupo_controle_365, 2)\n",
    "\n",
    "print(f\"A proporção de pacientes com AVC no primeiro ano do grupo de controle é de: {result_avc_controle_365}\")"
   ]
  },
  {
   "cell_type": "markdown",
   "id": "3128ea2a",
   "metadata": {},
   "source": [
    "### Qual a porcentagem de derrames que o grupo de tratamente teve a mais que o grupo de controle?"
   ]
  },
  {
   "cell_type": "code",
   "execution_count": 125,
   "id": "89273616",
   "metadata": {},
   "outputs": [
    {
     "name": "stdout",
     "output_type": "stream",
     "text": [
      "A diferença entre os grupos é de 8.0%.\n"
     ]
    }
   ],
   "source": [
    "diferenca = round(result_avc_tratamento_365 - result_avc_controle_365, 2) * 100\n",
    "print(f\"A diferença entre os grupos é de {diferenca}%.\")"
   ]
  },
  {
   "cell_type": "markdown",
   "id": "389eb081",
   "metadata": {},
   "source": [
    "### Observações:\n",
    "* Podemos calcular estatísticas atráves de tabelas;\n",
    "* Uma estatística nada mais é do que um número/medida que resume um conjunto de dados;\n",
    "* Por exemplo, esse estudo de caso pode ser resumido por meio das estatísticas que calculamos para os resultados dos nossos grupos amostrais;\n",
    "* As duas estatísticas que calculamos são úteis para procurarmos diferenças nos grupos;\n",
    "    * Qual a porcentagem de derrames que o grupo de tratamento teve a mais que o grupo de controle?\n",
    "    * #### Resposta: 8%*"
   ]
  },
  {
   "cell_type": "markdown",
   "id": "09e5a257",
   "metadata": {},
   "source": [
    "## Conclusões e questionamentos:\n",
    "* A diferença de 8% que encontramos é realmente relevante? Ou seja, a diferença é tão grande que devemos rejeitar a noção de que isso se deve ao **acaso**?;\n",
    "* Mas dado que não é o escopo dessa análise estatística se aprofundar no questionamento acima, podemos dizer que de acordo com nossas análises, encontramos evidências convincentes de danos por *stents* neste estudo;\n",
    "* Mas não podemos generalizar os resultados deste estudo para todos os pacientes e todos os *stents* do mundo!;\n",
    "* Os pacientes analisados podem não representar todas as caracteristicas de pacientes com AVC;\n",
    "* Existem muitos tipos de *stents*, e esse estudo considera apenas um tipo;"
   ]
  },
  {
   "cell_type": "markdown",
   "id": "a2dbd0b6",
   "metadata": {},
   "source": [
    "### Então qual é a resposta final da nossa análise para a seguinte pergunta: O uso de \"stents\" reduz o risco de acidente vascular cerebral? \n",
    "* #### De acordo com nossas análises, para esse estudo, encontramos evidências convincentes de que o uso de \"stents\" não reduz o risco de acidente vascular cerebral, mas pode ser a causa de aumento de risco do mesmo;"
   ]
  },
  {
   "cell_type": "code",
   "execution_count": null,
   "id": "2c23bf96",
   "metadata": {},
   "outputs": [],
   "source": []
  },
  {
   "cell_type": "code",
   "execution_count": null,
   "id": "6fc8c3a1",
   "metadata": {},
   "outputs": [],
   "source": []
  },
  {
   "cell_type": "code",
   "execution_count": null,
   "id": "60884cbd",
   "metadata": {},
   "outputs": [],
   "source": []
  },
  {
   "cell_type": "code",
   "execution_count": null,
   "id": "addec0da",
   "metadata": {},
   "outputs": [],
   "source": []
  },
  {
   "cell_type": "code",
   "execution_count": null,
   "id": "29fb3340",
   "metadata": {},
   "outputs": [],
   "source": []
  },
  {
   "cell_type": "code",
   "execution_count": null,
   "id": "25a7a46d",
   "metadata": {},
   "outputs": [],
   "source": []
  },
  {
   "cell_type": "code",
   "execution_count": null,
   "id": "6f038bc9",
   "metadata": {},
   "outputs": [],
   "source": []
  },
  {
   "cell_type": "code",
   "execution_count": null,
   "id": "e7bd8c80",
   "metadata": {},
   "outputs": [],
   "source": []
  },
  {
   "cell_type": "code",
   "execution_count": null,
   "id": "297feb03",
   "metadata": {},
   "outputs": [],
   "source": []
  },
  {
   "cell_type": "code",
   "execution_count": null,
   "id": "edfc87f4",
   "metadata": {},
   "outputs": [],
   "source": []
  },
  {
   "cell_type": "code",
   "execution_count": null,
   "id": "bf16f711",
   "metadata": {},
   "outputs": [],
   "source": []
  },
  {
   "cell_type": "code",
   "execution_count": null,
   "id": "a03d2aa2",
   "metadata": {},
   "outputs": [],
   "source": []
  },
  {
   "cell_type": "code",
   "execution_count": null,
   "id": "18860e7a",
   "metadata": {},
   "outputs": [],
   "source": []
  },
  {
   "cell_type": "code",
   "execution_count": null,
   "id": "7611d41c",
   "metadata": {},
   "outputs": [],
   "source": []
  },
  {
   "cell_type": "code",
   "execution_count": null,
   "id": "f51c2294",
   "metadata": {},
   "outputs": [],
   "source": []
  }
 ],
 "metadata": {
  "kernelspec": {
   "display_name": "Python 3 (ipykernel)",
   "language": "python",
   "name": "python3"
  },
  "language_info": {
   "codemirror_mode": {
    "name": "ipython",
    "version": 3
   },
   "file_extension": ".py",
   "mimetype": "text/x-python",
   "name": "python",
   "nbconvert_exporter": "python",
   "pygments_lexer": "ipython3",
   "version": "3.10.6"
  }
 },
 "nbformat": 4,
 "nbformat_minor": 5
}
